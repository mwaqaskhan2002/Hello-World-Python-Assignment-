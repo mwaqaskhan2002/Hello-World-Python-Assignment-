{
 "cells": [
  {
   "cell_type": "code",
   "execution_count": 2,
   "id": "627fad03",
   "metadata": {},
   "outputs": [
    {
     "name": "stdout",
     "output_type": "stream",
     "text": [
      "Pakistan Zindabad\n"
     ]
    }
   ],
   "source": [
    "data = \"Pakistan Zindabad\"\n",
    "print(data)"
   ]
  },
  {
   "cell_type": "code",
   "execution_count": 7,
   "id": "b4d91a78",
   "metadata": {},
   "outputs": [
    {
     "name": "stdout",
     "output_type": "stream",
     "text": [
      "Pakistan Zindabad 12345 &*^%$#@\n",
      "<class 'str'>\n"
     ]
    }
   ],
   "source": [
    "data = \"Pakistan Zindabad 12345 &*^%$#@\"\n",
    "print(data)\n",
    "print(type(data)) "
   ]
  },
  {
   "cell_type": "code",
   "execution_count": 16,
   "id": "d93c9429",
   "metadata": {},
   "outputs": [
    {
     "name": "stdout",
     "output_type": "stream",
     "text": [
      "Pakistan Zindabad 12345 &*^%$#@ \" Hello World\n",
      "<class 'str'>\n"
     ]
    }
   ],
   "source": [
    "data = 'Pakistan Zindabad 12345 &*^%$#@ \" Hello World'\n",
    "print(data)\n",
    "print(type(data)) "
   ]
  },
  {
   "cell_type": "markdown",
   "id": "3b9571a4",
   "metadata": {},
   "source": [
    "# Assign Multiline String"
   ]
  },
  {
   "cell_type": "code",
   "execution_count": 10,
   "id": "20f7c2fd",
   "metadata": {},
   "outputs": [
    {
     "name": "stdout",
     "output_type": "stream",
     "text": [
      "Line1 PakistanLine2 PakistanLine3 Pakistan\n",
      "<class 'str'>\n"
     ]
    }
   ],
   "source": [
    "abc = \"Line1 Pakistan\"\\\n",
    "\"Line2 Pakistan\"\\\n",
    "\"Line3 Pakistan\"\n",
    "\n",
    "print(abc)\n",
    "print(type(abc))"
   ]
  },
  {
   "cell_type": "code",
   "execution_count": 17,
   "id": "408e30f3",
   "metadata": {},
   "outputs": [
    {
     "name": "stdout",
     "output_type": "stream",
     "text": [
      "\n",
      "line 1 Hello World \n",
      "line 2 Pakistan Zindabad\n",
      "line 3 We love our Country\n",
      "\n",
      "<class 'str'>\n"
     ]
    }
   ],
   "source": [
    "abc = \"\"\"\n",
    "line 1 Hello World \n",
    "line 2 Pakistan Zindabad\n",
    "line 3 We love our Country\n",
    "\"\"\"\n",
    "print(abc)\n",
    "print(type(abc))"
   ]
  },
  {
   "cell_type": "code",
   "execution_count": 14,
   "id": "132e242a",
   "metadata": {},
   "outputs": [
    {
     "name": "stdout",
     "output_type": "stream",
     "text": [
      "\n",
      "line 1 Hello World \n",
      "line 2 Pakistan Zindabad\n",
      "line 3 We love our Country\n",
      "\n",
      "<class 'str'>\n"
     ]
    }
   ],
   "source": [
    "abc = '''\n",
    "line 1 Hello World \n",
    "line 2 Pakistan Zindabad\n",
    "line 3 We love our Country\n",
    "'''\n",
    "\n",
    "print(abc)\n",
    "print(type(abc))"
   ]
  },
  {
   "cell_type": "markdown",
   "id": "5da9c14f",
   "metadata": {},
   "source": [
    "# Concatenation and Text Formation"
   ]
  },
  {
   "cell_type": "code",
   "execution_count": 18,
   "id": "30853ebe",
   "metadata": {},
   "outputs": [
    {
     "data": {
      "text/plain": [
       "'11'"
      ]
     },
     "execution_count": 18,
     "metadata": {},
     "output_type": "execute_result"
    }
   ],
   "source": [
    "\"1\" + \"1\""
   ]
  },
  {
   "cell_type": "code",
   "execution_count": 19,
   "id": "c8c32031",
   "metadata": {},
   "outputs": [
    {
     "data": {
      "text/plain": [
       "2"
      ]
     },
     "execution_count": 19,
     "metadata": {},
     "output_type": "execute_result"
    }
   ],
   "source": [
    "1 + 1 "
   ]
  },
  {
   "cell_type": "code",
   "execution_count": 21,
   "id": "f941e27f",
   "metadata": {},
   "outputs": [
    {
     "name": "stdout",
     "output_type": "stream",
     "text": [
      "Enter no. 17\n",
      "Enter no. 22\n",
      "<class 'str'> <class 'str'>\n",
      "72\n"
     ]
    }
   ],
   "source": [
    "a = input(\"Enter no. 1\")\n",
    "b = input(\"Enter no. 2\")\n",
    "\n",
    "print(type(a), type(b))\n",
    "print(a + b)"
   ]
  },
  {
   "cell_type": "markdown",
   "id": "91f436b3",
   "metadata": {},
   "source": [
    "# TypeCasting"
   ]
  },
  {
   "cell_type": "code",
   "execution_count": 25,
   "id": "60544d0c",
   "metadata": {},
   "outputs": [
    {
     "name": "stdout",
     "output_type": "stream",
     "text": [
      "7 <class 'str'>\n",
      "7 <class 'int'>\n",
      "7.0 <class 'float'>\n"
     ]
    }
   ],
   "source": [
    "a = \"7\"\n",
    "print(a, type(a))\n",
    "\n",
    "\n",
    "a = int(a) #converted string into integer\n",
    "print( a, type(a))\n",
    "\n",
    "a = float(a) #converted integer into float\n",
    "print( a, type(a))"
   ]
  },
  {
   "cell_type": "code",
   "execution_count": 31,
   "id": "2d189287",
   "metadata": {},
   "outputs": [
    {
     "name": "stdout",
     "output_type": "stream",
     "text": [
      "Enter no. 1 6\n",
      "Enter no. 2 6\n",
      "<class 'str'> <class 'str'>\n",
      "66\n"
     ]
    }
   ],
   "source": [
    "a = input(\"Enter no. 1 \")\n",
    "b = input(\"Enter no. 2 \")\n",
    "int (a)\n",
    "int (b)\n",
    "print(type(a), type(b))\n",
    "print(a + b)"
   ]
  },
  {
   "cell_type": "code",
   "execution_count": 32,
   "id": "58da58ed",
   "metadata": {},
   "outputs": [
    {
     "name": "stdout",
     "output_type": "stream",
     "text": [
      "Enter no.1: 8\n",
      "Enter no.2: 8\n",
      "<class 'int'> <class 'int'>\n",
      "16\n"
     ]
    }
   ],
   "source": [
    "a = int(input(\"Enter no.1: \"))\n",
    "b = int(input(\"Enter no.2: \"))\n",
    "print(type(a), type(b))\n",
    "print(a + b)"
   ]
  },
  {
   "cell_type": "code",
   "execution_count": 33,
   "id": "a85b4516",
   "metadata": {},
   "outputs": [
    {
     "data": {
      "text/plain": [
       "2"
      ]
     },
     "execution_count": 33,
     "metadata": {},
     "output_type": "execute_result"
    }
   ],
   "source": [
    "int(\"1\") + 1"
   ]
  },
  {
   "cell_type": "code",
   "execution_count": 77,
   "id": "a180868c",
   "metadata": {},
   "outputs": [
    {
     "name": "stdout",
     "output_type": "stream",
     "text": [
      "NED UNIVERSITY \n",
      "Student Roll No.:200\n",
      "Student Name:Muhammad Waqas Khan\n",
      "Father Name:Muhammad Tayyab Khan\n",
      "Contact No:923303197142\n"
     ]
    }
   ],
   "source": [
    "roll_no = 200\n",
    "name = \"Muhammad Waqas Khan\"\n",
    "fname = \"Muhammad Tayyab Khan\"\n",
    "contact_no = \"923303197142\"\n",
    "\n",
    "card = \"NED UNIVERSITY \\nStudent Roll No.:\" + str(roll_no)+\\\n",
    "\"\\nStudent Name:\" + name + \"\\nFather Name:\" + fname +\\\n",
    "\"\\nContact No:\"\\\n",
    "+ contact_no\n",
    "\n",
    "print(card)"
   ]
  },
  {
   "cell_type": "code",
   "execution_count": 78,
   "id": "22dab59e",
   "metadata": {},
   "outputs": [
    {
     "name": "stdout",
     "output_type": "stream",
     "text": [
      "\n",
      "NED UNIVERSITY\n",
      "Student Rollno: \t\t200\n",
      "Student Name:  \t\t\tMuhammad Waqas Khan \n",
      "Father's Name: \t\t\tMuhammad Tayyab Khan\n",
      "Contact Number:\t\t\t923303197142\n",
      "\n"
     ]
    }
   ],
   "source": [
    "card = \"\"\"\n",
    "NED UNIVERSITY\n",
    "Student Rollno: \\t\\t200\n",
    "Student Name:  \\t\\t\\tMuhammad Waqas Khan \n",
    "Father's Name: \\t\\t\\tMuhammad Tayyab Khan\n",
    "Contact Number:\\t\\t\\t923303197142\n",
    "\"\"\"\n",
    "\n",
    "print(card)"
   ]
  },
  {
   "cell_type": "code",
   "execution_count": 1,
   "id": "2b44af49",
   "metadata": {},
   "outputs": [
    {
     "name": "stdout",
     "output_type": "stream",
     "text": [
      "\n",
      "NED UNIVERSITY\n",
      "Student Rollno: 200\n",
      "Student Name:  Muhammad Waqas Khan\n",
      "Father's Name: Muhammad Tayyab Khan\n",
      "Contact Number:923303197142\n"
     ]
    }
   ],
   "source": [
    "roll_no = 200\n",
    "name = \"Muhammad Waqas Khan\"\n",
    "fname = \"Muhammad Tayyab Khan\"\n",
    "contact_no = \"923303197142\"\n",
    "\n",
    "card = \"\"\"\n",
    "NED UNIVERSITY\n",
    "Student Rollno: {2}\n",
    "Student Name:  {0}\n",
    "Father's Name: {1}\n",
    "Contact Number:{3}\"\"\".format(name,fname,roll_no,contact_no)\n",
    "#                            0     1      2       3\n",
    "print(card)"
   ]
  },
  {
   "cell_type": "code",
   "execution_count": 2,
   "id": "5298d719",
   "metadata": {},
   "outputs": [
    {
     "name": "stdout",
     "output_type": "stream",
     "text": [
      "NED UNIVERSITY\n",
      "Student Rollno: 200\n",
      "Student Name:  Muhammad Waqas Khan\n",
      "Father's Name: Muhammad Tayyab Khan\n",
      "Contact Number: 923303197142\n"
     ]
    }
   ],
   "source": [
    "roll_no = 200\n",
    "name = \"Muhammad Waqas Khan\"\n",
    "fname = \"Muhammad Tayyab Khan\"\n",
    "contact_no = \"923303197142\"\n",
    "\n",
    "card = f\"\"\"NED UNIVERSITY\n",
    "Student Rollno: {roll_no}\n",
    "Student Name:  {name}\n",
    "Father's Name: {fname}\n",
    "Contact Number: {contact_no}\"\"\"\n",
    "\n",
    "print(card)"
   ]
  },
  {
   "cell_type": "code",
   "execution_count": null,
   "id": "f0c65dc9",
   "metadata": {},
   "outputs": [],
   "source": [
    "roll_no = input(\"roll no\")\n",
    "name = input(\"Name:\")\n",
    "fname = input(\"Father's Name:\")\n",
    "contact_no = input(\"Contact no: \")\n",
    "\n",
    "card = f \"\"\"NED UNIVERSITY\n",
    "Student Rollno: {roll_no}\n",
    "Student Name:  {name}\n",
    "Father's Name: {fname}\n",
    "Contact Number: {contact_no}\"\"\"\n",
    "\n",
    "print(card)"
   ]
  },
  {
   "cell_type": "code",
   "execution_count": null,
   "id": "68576995",
   "metadata": {},
   "outputs": [],
   "source": [
    "%s string\n",
    "%d number\n",
    "\n",
    "roll_no = 111\n",
    "name = \"Muhammad Waqas Khan\"\n",
    "\"Student name %s \\n roll no: %d\" %(name,roll_no)"
   ]
  },
  {
   "cell_type": "code",
   "execution_count": null,
   "id": "df080e54",
   "metadata": {},
   "outputs": [],
   "source": []
  },
  {
   "cell_type": "code",
   "execution_count": null,
   "id": "e0003666",
   "metadata": {},
   "outputs": [],
   "source": []
  },
  {
   "cell_type": "code",
   "execution_count": null,
   "id": "e0ef7d15",
   "metadata": {},
   "outputs": [],
   "source": []
  },
  {
   "cell_type": "code",
   "execution_count": null,
   "id": "9fb4eb03",
   "metadata": {},
   "outputs": [],
   "source": []
  }
 ],
 "metadata": {
  "kernelspec": {
   "display_name": "Python 3 (ipykernel)",
   "language": "python",
   "name": "python3"
  },
  "language_info": {
   "codemirror_mode": {
    "name": "ipython",
    "version": 3
   },
   "file_extension": ".py",
   "mimetype": "text/x-python",
   "name": "python",
   "nbconvert_exporter": "python",
   "pygments_lexer": "ipython3",
   "version": "3.10.9"
  }
 },
 "nbformat": 4,
 "nbformat_minor": 5
}
