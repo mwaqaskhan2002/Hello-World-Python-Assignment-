{
 "cells": [
  {
   "cell_type": "code",
   "execution_count": 2,
   "id": "8407cd23",
   "metadata": {
    "scrolled": true
   },
   "outputs": [
    {
     "name": "stdout",
     "output_type": "stream",
     "text": [
      "<class 'str'>\n",
      "['__add__', '__class__', '__contains__', '__delattr__', '__dir__', '__doc__', '__eq__', '__format__', '__ge__', '__getattribute__', '__getitem__', '__getnewargs__', '__gt__', '__hash__', '__init__', '__init_subclass__', '__iter__', '__le__', '__len__', '__lt__', '__mod__', '__mul__', '__ne__', '__new__', '__reduce__', '__reduce_ex__', '__repr__', '__rmod__', '__rmul__', '__setattr__', '__sizeof__', '__str__', '__subclasshook__', 'capitalize', 'casefold', 'center', 'count', 'encode', 'endswith', 'expandtabs', 'find', 'format', 'format_map', 'index', 'isalnum', 'isalpha', 'isascii', 'isdecimal', 'isdigit', 'isidentifier', 'islower', 'isnumeric', 'isprintable', 'isspace', 'istitle', 'isupper', 'join', 'ljust', 'lower', 'lstrip', 'maketrans', 'partition', 'removeprefix', 'removesuffix', 'replace', 'rfind', 'rindex', 'rjust', 'rpartition', 'rsplit', 'rstrip', 'split', 'splitlines', 'startswith', 'strip', 'swapcase', 'title', 'translate', 'upper', 'zfill']\n"
     ]
    }
   ],
   "source": [
    "a = \"Pakistan\"\n",
    "print (type(a))\n",
    "print(dir(a))     #direct return all methods and attribute"
   ]
  },
  {
   "cell_type": "markdown",
   "id": "3c2f07f3",
   "metadata": {},
   "source": [
    "capitalize', 'casefold', 'center', 'count', 'encode', 'endswith', 'expandtabs', 'find', 'format', 'format_map', 'index', 'isalnum', 'isalpha', 'isascii', 'isdecimal', 'isdigit', 'isidentifier', 'islower', 'isnumeric', 'isprintable', 'isspace', 'istitle', 'isupper', 'join', 'ljust', 'lower', 'lstrip', 'maketrans', 'partition', 'removeprefix', 'removesuffix', 'replace', 'rfind', 'rindex', 'rjust', 'rpartition', 'rsplit', 'rstrip', 'split', 'splitlines', 'startswith', 'strip', 'swapcase', 'title', 'translate', 'upper', 'zfill'"
   ]
  },
  {
   "cell_type": "markdown",
   "id": "b2e40cf8",
   "metadata": {},
   "source": [
    "All **Mehtods**/function, **attributes/properties/fields of string\n",
    "* method_name()\n",
    "* attribute_name()\n",
    "\n",
    "How can we call methods or attribute\n",
    "\n",
    "* object_name.method_name()\n",
    "* object_name.attribute_name"
   ]
  },
  {
   "cell_type": "code",
   "execution_count": 3,
   "id": "34479a5a",
   "metadata": {},
   "outputs": [
    {
     "name": "stdout",
     "output_type": "stream",
     "text": [
      "Pakistan zindabad\n",
      "we love our country\n"
     ]
    }
   ],
   "source": [
    "text = \"\"\"pakistan zindabad\n",
    "we love our country\"\"\"\n",
    "\n",
    "print(text.capitalize())"
   ]
  },
  {
   "cell_type": "code",
   "execution_count": 4,
   "id": "5655b026",
   "metadata": {},
   "outputs": [
    {
     "name": "stdout",
     "output_type": "stream",
     "text": [
      "pakistan zindabad\n",
      "we love our country\n"
     ]
    }
   ],
   "source": [
    "text = \"\"\"PakIstAn ZinDaBad\n",
    "wE lOve oUr coUntRy\"\"\"\n",
    "\n",
    "print(text.casefold())"
   ]
  },
  {
   "cell_type": "code",
   "execution_count": 9,
   "id": "9a34679c",
   "metadata": {},
   "outputs": [
    {
     "name": "stdout",
     "output_type": "stream",
     "text": [
      "19\n"
     ]
    }
   ],
   "source": [
    "name = \"Muhammad Waqas Khan\"\n",
    "print(len(name)) #len is a global function"
   ]
  },
  {
   "cell_type": "code",
   "execution_count": 8,
   "id": "cf2da2f9",
   "metadata": {},
   "outputs": [
    {
     "data": {
      "text/plain": [
       "'   Muhammad Waqas Khan   '"
      ]
     },
     "execution_count": 8,
     "metadata": {},
     "output_type": "execute_result"
    }
   ],
   "source": [
    "name = \"Muhammad Waqas Khan\"\n",
    "name.center(25)"
   ]
  },
  {
   "cell_type": "code",
   "execution_count": 10,
   "id": "add9268e",
   "metadata": {},
   "outputs": [
    {
     "name": "stdout",
     "output_type": "stream",
     "text": [
      "19\n"
     ]
    }
   ],
   "source": [
    "name = \"Muhammad Waqas Khan\"\n",
    "print(name.__len__()) #method"
   ]
  },
  {
   "cell_type": "code",
   "execution_count": 11,
   "id": "7130977c",
   "metadata": {},
   "outputs": [
    {
     "name": "stdout",
     "output_type": "stream",
     "text": [
      "5\n"
     ]
    }
   ],
   "source": [
    "name = \"Muhammad Waqas Khan\"\n",
    "print(name.count(\"a\"))"
   ]
  },
  {
   "cell_type": "code",
   "execution_count": 14,
   "id": "25eaf985",
   "metadata": {},
   "outputs": [
    {
     "name": "stdout",
     "output_type": "stream",
     "text": [
      "1\n"
     ]
    }
   ],
   "source": [
    "name = \"Muhammad Waqas Khan\"\n",
    "print(name.count(\"Muhammad Waqas\"))"
   ]
  },
  {
   "cell_type": "code",
   "execution_count": 21,
   "id": "5e8cdd4b",
   "metadata": {},
   "outputs": [
    {
     "data": {
      "text/plain": [
       "8"
      ]
     },
     "execution_count": 21,
     "metadata": {},
     "output_type": "execute_result"
    }
   ],
   "source": [
    "name = \"Muhammad Waqas Khan\"\n",
    "name.count(\"m\") + name.count(\"a\") + name.count(\"M\") + name.count(\"A\")"
   ]
  },
  {
   "cell_type": "code",
   "execution_count": 24,
   "id": "8bc0eb6c",
   "metadata": {},
   "outputs": [
    {
     "name": "stdout",
     "output_type": "stream",
     "text": [
      "muhammad waqas khan\n",
      "3 5 0 0\n"
     ]
    }
   ],
   "source": [
    "name = \"Muhammad Waqas Khan\" #step 1 Muhammad Waqas Khan\n",
    "name = name.casefold()       # step 2 -> muhammad waqas khan\n",
    "print(name)  #step 3 -> display\n",
    "\n",
    "#           m = 3               a = 5\n",
    "print(name.count(\"m\") , name.count(\"a\") , name.count(\"M\") , name.count(\"A\"))"
   ]
  },
  {
   "cell_type": "code",
   "execution_count": 26,
   "id": "966b1209",
   "metadata": {},
   "outputs": [
    {
     "name": "stdout",
     "output_type": "stream",
     "text": [
      "muhammad waqas khan\n",
      "<class 'int'>\n"
     ]
    }
   ],
   "source": [
    "name = \"Muhammad Waqas Khan\" #step 1 Muhammad Waqas Khan\n",
    "name = name.casefold()       # step 2 -> muhammad waqas khan\n",
    "print(name)  #step 3 -> display\n",
    "\n",
    "#           m = 3               a = 5\n",
    "m = name.count(\"m\") \n",
    "a = name.count(\"a\") \n",
    "print(type(m))"
   ]
  },
  {
   "cell_type": "markdown",
   "id": "10b7cac6",
   "metadata": {},
   "source": [
    "https://www.w3schools.com/python/ref_string_encode.asp"
   ]
  },
  {
   "cell_type": "code",
   "execution_count": 28,
   "id": "91089fb7",
   "metadata": {},
   "outputs": [
    {
     "name": "stdout",
     "output_type": "stream",
     "text": [
      "b'My name is St\\xc3\\xa5le'\n"
     ]
    }
   ],
   "source": [
    "txt = \"My name is Ståle\"\n",
    "\n",
    "x = txt.encode()\n",
    "\n",
    "print(x)\n"
   ]
  },
  {
   "cell_type": "code",
   "execution_count": 29,
   "id": "571d084d",
   "metadata": {},
   "outputs": [
    {
     "name": "stdout",
     "output_type": "stream",
     "text": [
      "b'My name is St\\\\xe5le'\n",
      "b'My name is Stle'\n",
      "b'My name is St\\\\N{LATIN SMALL LETTER A WITH RING ABOVE}le'\n",
      "b'My name is St?le'\n",
      "b'My name is St&#229;le'\n"
     ]
    }
   ],
   "source": [
    "txt = \"My name is Ståle\"\n",
    "\n",
    "print(txt.encode(encoding=\"ascii\",errors=\"backslashreplace\"))\n",
    "print(txt.encode(encoding=\"ascii\",errors=\"ignore\"))\n",
    "print(txt.encode(encoding=\"ascii\",errors=\"namereplace\"))\n",
    "print(txt.encode(encoding=\"ascii\",errors=\"replace\"))\n",
    "print(txt.encode(encoding=\"ascii\",errors=\"xmlcharrefreplace\"))"
   ]
  },
  {
   "cell_type": "code",
   "execution_count": 31,
   "id": "9733b085",
   "metadata": {},
   "outputs": [
    {
     "name": "stdout",
     "output_type": "stream",
     "text": [
      "True\n",
      "True\n"
     ]
    }
   ],
   "source": [
    "name = \"Muhammad Waqas Khan\"\n",
    "print(name.endswith(\"n\"))\n",
    "print(name.endswith(\"an\"))"
   ]
  },
  {
   "cell_type": "code",
   "execution_count": 32,
   "id": "7525776d",
   "metadata": {},
   "outputs": [
    {
     "name": "stdout",
     "output_type": "stream",
     "text": [
      "False\n",
      "True\n"
     ]
    }
   ],
   "source": [
    "name = \"Muhammad Waqas Khan\"\n",
    "print(name.endswith(\"M\"))\n",
    "print(name.endswith(\"an\"))"
   ]
  },
  {
   "cell_type": "code",
   "execution_count": 34,
   "id": "5e2e4cf4",
   "metadata": {},
   "outputs": [
    {
     "name": "stdout",
     "output_type": "stream",
     "text": [
      "start withMu\n",
      "True\n",
      "False\n"
     ]
    }
   ],
   "source": [
    "name = \"Muhammad Waqas Khan\"\n",
    "search = input(\"start with\")\n",
    "print(name.startswith(search))\n",
    "print(name.startswith(\"as\"))"
   ]
  },
  {
   "cell_type": "code",
   "execution_count": 41,
   "id": "a40a92f0",
   "metadata": {},
   "outputs": [
    {
     "name": "stdout",
     "output_type": "stream",
     "text": [
      "\n",
      "NED UNIVERSITY\n",
      "Batch 5\n",
      "Class:                        Python\n",
      "Name:                         Muhammad Waqas Khan\n",
      "Father's Name:                Muhammad Tayyab Khan\n",
      "\n"
     ]
    }
   ],
   "source": [
    "card = \"\"\"\n",
    "NED UNIVERSITY\n",
    "Batch 5\n",
    "Class:\\tPython\n",
    "Name:\\tMuhammad Waqas Khan\n",
    "Father's Name: \\tMuhammad Tayyab Khan\n",
    "\"\"\"\n",
    "\n",
    "\n",
    "\n",
    "print(card.expandtabs(30))"
   ]
  },
  {
   "cell_type": "markdown",
   "id": "5f4d4b59",
   "metadata": {},
   "source": [
    "Help \n",
    "*help(function\n",
    "*help(object_name.method)\n",
    "*function?\n",
    "*function??\n",
    "*?function\n",
    "*??function\n"
   ]
  },
  {
   "cell_type": "code",
   "execution_count": 37,
   "id": "03dc92bb",
   "metadata": {},
   "outputs": [
    {
     "name": "stdout",
     "output_type": "stream",
     "text": [
      "Type help() for interactive help, or help(object) for help about object.\n"
     ]
    }
   ],
   "source": [
    "print(help)"
   ]
  },
  {
   "cell_type": "code",
   "execution_count": 38,
   "id": "8e71ad8d",
   "metadata": {},
   "outputs": [],
   "source": [
    "print??"
   ]
  },
  {
   "cell_type": "code",
   "execution_count": 39,
   "id": "cda12468",
   "metadata": {},
   "outputs": [],
   "source": [
    "name = \"MuHamMad WaQas KhAn\"\n",
    "?name.lower"
   ]
  },
  {
   "cell_type": "code",
   "execution_count": 42,
   "id": "842dfb29",
   "metadata": {},
   "outputs": [
    {
     "data": {
      "text/plain": [
       "'Muhammad Waqas Khan      '"
      ]
     },
     "execution_count": 42,
     "metadata": {},
     "output_type": "execute_result"
    }
   ],
   "source": [
    "name = \"      Muhammad Waqas Khan      \"\n",
    "name.lstrip()"
   ]
  },
  {
   "cell_type": "code",
   "execution_count": 43,
   "id": "cf14de13",
   "metadata": {},
   "outputs": [
    {
     "data": {
      "text/plain": [
       "'      Muhammad Waqas Khan'"
      ]
     },
     "execution_count": 43,
     "metadata": {},
     "output_type": "execute_result"
    }
   ],
   "source": [
    "name = \"      Muhammad Waqas Khan      \"\n",
    "name.rstrip()"
   ]
  },
  {
   "cell_type": "code",
   "execution_count": 44,
   "id": "fc93a603",
   "metadata": {},
   "outputs": [
    {
     "data": {
      "text/plain": [
       "'Muhammad Waqas Khan'"
      ]
     },
     "execution_count": 44,
     "metadata": {},
     "output_type": "execute_result"
    }
   ],
   "source": [
    "name = \"      Muhammad Waqas Khan      \"\n",
    "name.strip()"
   ]
  },
  {
   "cell_type": "code",
   "execution_count": 47,
   "id": "22268e83",
   "metadata": {},
   "outputs": [
    {
     "data": {
      "text/plain": [
       "'Muhammad Tayyab Waqas Khan'"
      ]
     },
     "execution_count": 47,
     "metadata": {},
     "output_type": "execute_result"
    }
   ],
   "source": [
    "name = \"Muhammad Waqas Waqas Khan\"\n",
    "name.replace(\"Waqas\",\"Tayyab\",1)"
   ]
  },
  {
   "cell_type": "code",
   "execution_count": 48,
   "id": "3946ef5a",
   "metadata": {},
   "outputs": [
    {
     "data": {
      "text/plain": [
       "9"
      ]
     },
     "execution_count": 48,
     "metadata": {},
     "output_type": "execute_result"
    }
   ],
   "source": [
    "name.index(\"Waqas\")"
   ]
  },
  {
   "cell_type": "code",
   "execution_count": 51,
   "id": "d4ccc5c3",
   "metadata": {},
   "outputs": [
    {
     "data": {
      "text/plain": [
       "15"
      ]
     },
     "execution_count": 51,
     "metadata": {},
     "output_type": "execute_result"
    }
   ],
   "source": [
    "name.find(\"Waqas\",10)"
   ]
  },
  {
   "cell_type": "code",
   "execution_count": 52,
   "id": "cdc56810",
   "metadata": {},
   "outputs": [
    {
     "data": {
      "text/plain": [
       "0"
      ]
     },
     "execution_count": 52,
     "metadata": {},
     "output_type": "execute_result"
    }
   ],
   "source": [
    "name.count(\"Waqas\",16)"
   ]
  },
  {
   "cell_type": "markdown",
   "id": "2317cd58",
   "metadata": {},
   "source": [
    "# Additional Task"
   ]
  },
  {
   "cell_type": "code",
   "execution_count": 55,
   "id": "62d04676",
   "metadata": {},
   "outputs": [
    {
     "data": {
      "text/plain": [
       "[]"
      ]
     },
     "execution_count": 55,
     "metadata": {},
     "output_type": "execute_result"
    }
   ],
   "source": []
  },
  {
   "cell_type": "code",
   "execution_count": 58,
   "id": "8dc38684",
   "metadata": {},
   "outputs": [
    {
     "name": "stdout",
     "output_type": "stream",
     "text": [
      "Defaulting to user installation because normal site-packages is not writeable\n",
      "Requirement already satisfied: openpyxl in c:\\programdata\\anaconda3\\lib\\site-packages (3.0.10)\n",
      "Requirement already satisfied: et_xmlfile in c:\\programdata\\anaconda3\\lib\\site-packages (from openpyxl) (1.1.0)\n"
     ]
    }
   ],
   "source": [
    "!pip install openpyxl"
   ]
  },
  {
   "cell_type": "code",
   "execution_count": null,
   "id": "03446948",
   "metadata": {},
   "outputs": [],
   "source": []
  },
  {
   "cell_type": "code",
   "execution_count": null,
   "id": "96f90e16",
   "metadata": {},
   "outputs": [],
   "source": []
  },
  {
   "cell_type": "code",
   "execution_count": null,
   "id": "ebfa319f",
   "metadata": {},
   "outputs": [],
   "source": []
  }
 ],
 "metadata": {
  "kernelspec": {
   "display_name": "Python 3 (ipykernel)",
   "language": "python",
   "name": "python3"
  },
  "language_info": {
   "codemirror_mode": {
    "name": "ipython",
    "version": 3
   },
   "file_extension": ".py",
   "mimetype": "text/x-python",
   "name": "python",
   "nbconvert_exporter": "python",
   "pygments_lexer": "ipython3",
   "version": "3.10.9"
  }
 },
 "nbformat": 4,
 "nbformat_minor": 5
}
