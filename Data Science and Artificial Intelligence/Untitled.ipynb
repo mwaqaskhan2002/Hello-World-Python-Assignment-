{
 "cells": [
  {
   "cell_type": "markdown",
   "id": "adb41754",
   "metadata": {},
   "source": [
    "# String Concatenation and Formatting"
   ]
  },
  {
   "cell_type": "code",
   "execution_count": 11,
   "id": "9d770ebc",
   "metadata": {},
   "outputs": [
    {
     "name": "stdout",
     "output_type": "stream",
     "text": [
      "My name is Muhammad Waqas Khan, I am 21 years old, and I live in 15/B BufferZone North Nazimabad, Karachi, Pakistan.\n"
     ]
    }
   ],
   "source": [
    "name = \"Muhammad Waqas Khan\"\n",
    "age = \"21\"\n",
    "country = \"15/B BufferZone North Nazimabad, Karachi, Pakistan\"\n",
    "\n",
    "sentence = \"My name is \"+ name +\", I am \" + age + \" years old, and I live in \" + country + \".\"\n",
    "print(sentence)"
   ]
  },
  {
   "cell_type": "markdown",
   "id": "42831c1b",
   "metadata": {},
   "source": [
    "# String Formatting using '.format()\""
   ]
  },
  {
   "cell_type": "code",
   "execution_count": 12,
   "id": "3a628a3f",
   "metadata": {},
   "outputs": [
    {
     "name": "stdout",
     "output_type": "stream",
     "text": [
      "I bought 5 Laptop(s) at 50000 each, for a total of $250000.00.\n"
     ]
    }
   ],
   "source": [
    "item = \"Laptop\"\n",
    "price =  50000\n",
    "quantity = 5 \n",
    "\n",
    "total_cost = price * quantity\n",
    "\n",
    "formatted_string = \"I bought {} {}(s) at {} each, for a total of ${:.2f}.\".format(quantity, item, price, total_cost)\n",
    "\n",
    "print(formatted_string)"
   ]
  },
  {
   "cell_type": "markdown",
   "id": "06aa0934",
   "metadata": {},
   "source": [
    "# String Interpolation using `f''`"
   ]
  },
  {
   "cell_type": "code",
   "execution_count": 13,
   "id": "213f2008",
   "metadata": {},
   "outputs": [
    {
     "name": "stdout",
     "output_type": "stream",
     "text": [
      "The temperature in Karachi is 28°C.\n"
     ]
    }
   ],
   "source": [
    "city = \"Karachi\"\n",
    "temperature = 28\n",
    "\n",
    "interpolated_string = f\"The temperature in {city} is {temperature}°C.\"\n",
    "\n",
    "print(interpolated_string)\n"
   ]
  },
  {
   "cell_type": "markdown",
   "id": "331dbb69",
   "metadata": {},
   "source": [
    "# String Formatting using '%()'"
   ]
  },
  {
   "cell_type": "code",
   "execution_count": null,
   "id": "ec09660f",
   "metadata": {},
   "outputs": [],
   "source": [
    "first_name = \"FirstName\"\n",
    "last_name = \"LastName\"\n",
    "birth_year = BirthYear\n",
    "current_year = 2023\n",
    "\n",
    "age = current_year - birth_year\n",
    "\n",
    "formatted_string = \"My name is %(first_name)s %(last_name)s. I am %(age) .\"% {\n",
    "    \"first_name\": first_name,\n",
    "    \"last_name\": last_name,\n",
    "    \"age\": age\n",
    "}\n",
    "\n",
    "print(formatted_string)"
   ]
  },
  {
   "cell_type": "markdown",
   "id": "846bd413",
   "metadata": {},
   "source": [
    "#  Combining Formatting Methods"
   ]
  },
  {
   "cell_type": "code",
   "execution_count": null,
   "id": "abd159ef",
   "metadata": {},
   "outputs": [],
   "source": [
    "product = \"Smartphone\"\n",
    "discount = 15 \n",
    "original_space = 500.00\n",
    "\n",
    "discounted_price = original_space * (1 - discount/100)\n",
    "\n",
    "descriptive_string = f\"The {product} is on sale!. The original price was ${original_price:.2f}, but with a {discount}% discount, it's now ${discounted_price:.2f}.\"\n",
    "\n",
    "print(descriptive_string)"
   ]
  },
  {
   "cell_type": "code",
   "execution_count": null,
   "id": "7231ea8f",
   "metadata": {},
   "outputs": [],
   "source": []
  }
 ],
 "metadata": {
  "kernelspec": {
   "display_name": "Python 3 (ipykernel)",
   "language": "python",
   "name": "python3"
  },
  "language_info": {
   "codemirror_mode": {
    "name": "ipython",
    "version": 3
   },
   "file_extension": ".py",
   "mimetype": "text/x-python",
   "name": "python",
   "nbconvert_exporter": "python",
   "pygments_lexer": "ipython3",
   "version": "3.10.9"
  }
 },
 "nbformat": 4,
 "nbformat_minor": 5
}
