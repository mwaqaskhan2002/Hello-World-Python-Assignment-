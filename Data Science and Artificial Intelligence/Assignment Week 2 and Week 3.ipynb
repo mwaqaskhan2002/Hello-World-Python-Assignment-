{
 "cells": [
  {
   "cell_type": "markdown",
   "id": "361cf56f",
   "metadata": {},
   "source": [
    "# String Concatenation and Formatting"
   ]
  },
  {
   "cell_type": "code",
   "execution_count": 1,
   "id": "c1db0b69",
   "metadata": {},
   "outputs": [
    {
     "name": "stdout",
     "output_type": "stream",
     "text": [
      "My name is Muhammad Waqas Khan, I am 21 years old, and I live in 15/B BufferZone North Nazimabad, Karachi, Pakistan.\n"
     ]
    }
   ],
   "source": [
    "name = \"Muhammad Waqas Khan\"\n",
    "age = \"21\"\n",
    "country = \"15/B BufferZone North Nazimabad, Karachi, Pakistan\"\n",
    "\n",
    "sentence = \"My name is \"+ name +\", I am \" + age + \" years old, and I live in \" + country + \".\"\n",
    "print(sentence)"
   ]
  },
  {
   "cell_type": "markdown",
   "id": "2e7d4a72",
   "metadata": {},
   "source": [
    "# String Formatting using '.format()\""
   ]
  },
  {
   "cell_type": "code",
   "execution_count": 2,
   "id": "96f25b61",
   "metadata": {},
   "outputs": [
    {
     "name": "stdout",
     "output_type": "stream",
     "text": [
      "I bought 5 Laptop(s) at 50000 each, for a total of $250000.00.\n"
     ]
    }
   ],
   "source": [
    "item = \"Laptop\"\n",
    "price =  50000\n",
    "quantity = 5 \n",
    "\n",
    "total_cost = price * quantity\n",
    "\n",
    "formatted_string = \"I bought {} {}(s) at {} each, for a total of ${:.2f}.\".format(quantity, item, price, total_cost)\n",
    "\n",
    "print(formatted_string)"
   ]
  },
  {
   "cell_type": "markdown",
   "id": "0e38539e",
   "metadata": {},
   "source": [
    "# String Interpolation using f''"
   ]
  },
  {
   "cell_type": "code",
   "execution_count": 3,
   "id": "c4c97898",
   "metadata": {},
   "outputs": [
    {
     "name": "stdout",
     "output_type": "stream",
     "text": [
      "The temperature in Karachi is 28°C.\n"
     ]
    }
   ],
   "source": [
    "city = \"Karachi\"\n",
    "temperature = 28\n",
    "\n",
    "interpolated_string = f\"The temperature in {city} is {temperature}°C.\"\n",
    "\n",
    "print(interpolated_string)\n"
   ]
  },
  {
   "cell_type": "markdown",
   "id": "c3516671",
   "metadata": {},
   "source": [
    "# String Formatting using '%()'"
   ]
  },
  {
   "cell_type": "code",
   "execution_count": 3,
   "id": "0002c966",
   "metadata": {},
   "outputs": [
    {
     "name": "stdout",
     "output_type": "stream",
     "text": [
      "My name is Muhammad Waqas Khan. I am 21 years old.\n"
     ]
    }
   ],
   "source": [
    "first_name = \"Muhammad Waqas\"\n",
    "last_name = \"Khan\"\n",
    "birth_year = 2002\n",
    "current_year = 2023\n",
    "\n",
    "age = current_year-birth_year\n",
    "\n",
    "formatted_string = \"My name is %s %s. I am %d years old.\"% (first_name,last_name,age)\n",
    "\n",
    "print(formatted_string)"
   ]
  },
  {
   "cell_type": "markdown",
   "id": "1053efde",
   "metadata": {},
   "source": [
    "# Combining Formatting Methods"
   ]
  },
  {
   "cell_type": "code",
   "execution_count": 17,
   "id": "326f3164",
   "metadata": {},
   "outputs": [
    {
     "name": "stdout",
     "output_type": "stream",
     "text": [
      "The Smartphone is on sale!. The original price was $500.00, but with a 15% discount, it's now $425.00.\n"
     ]
    }
   ],
   "source": [
    "product = \"Smartphone\"\n",
    "discount = 15 \n",
    "original_price = 500.00\n",
    "\n",
    "discounted_price = original_price * (1 - discount/100)\n",
    "\n",
    "descriptive_string = f\"The {product} is on sale!. The original price was ${original_price:.2f}, but with a {discount}% discount, it's now ${discounted_price:.2f}.\"\n",
    "\n",
    "print(descriptive_string)"
   ]
  }
 ],
 "metadata": {
  "kernelspec": {
   "display_name": "Python 3 (ipykernel)",
   "language": "python",
   "name": "python3"
  },
  "language_info": {
   "codemirror_mode": {
    "name": "ipython",
    "version": 3
   },
   "file_extension": ".py",
   "mimetype": "text/x-python",
   "name": "python",
   "nbconvert_exporter": "python",
   "pygments_lexer": "ipython3",
   "version": "3.10.9"
  }
 },
 "nbformat": 4,
 "nbformat_minor": 5
}
