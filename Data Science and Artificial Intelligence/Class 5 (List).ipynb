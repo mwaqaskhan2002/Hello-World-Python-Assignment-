{
 "cells": [
  {
   "cell_type": "code",
   "execution_count": 4,
   "id": "893d1d14",
   "metadata": {},
   "outputs": [
    {
     "name": "stdout",
     "output_type": "stream",
     "text": [
      "Defaulting to user installation because normal site-packages is not writeable\n",
      "Requirement already satisfied: openpyxl in c:\\programdata\\anaconda3\\lib\\site-packages (3.0.10)\n",
      "Requirement already satisfied: et_xmlfile in c:\\programdata\\anaconda3\\lib\\site-packages (from openpyxl) (1.1.0)\n"
     ]
    }
   ],
   "source": [
    "!pip install openpyxl"
   ]
  },
  {
   "cell_type": "markdown",
   "id": "f759815a",
   "metadata": {},
   "source": [
    "# List"
   ]
  },
  {
   "cell_type": "code",
   "execution_count": 5,
   "id": "89e85bcf",
   "metadata": {},
   "outputs": [
    {
     "name": "stdout",
     "output_type": "stream",
     "text": [
      "Hammad\n",
      "Visha\n",
      "Sadia\n",
      "M.A Rasheed\n"
     ]
    }
   ],
   "source": [
    "s1_name = \"Hammad\"\n",
    "s2_name = \"Visha\"\n",
    "s3_name = \"Sadia\"\n",
    "s4_name = \"M.A Rasheed\"\n",
    "\n",
    "print(s1_name)\n",
    "print(s2_name)\n",
    "print(s3_name)\n",
    "print(s4_name)"
   ]
  },
  {
   "cell_type": "markdown",
   "id": "54dd7b52",
   "metadata": {},
   "source": [
    "# List\n",
    "* List Hetrogenous data type \n",
    "* List is dynamic in length \n",
    "* List consumes large memory \n",
    "* List has dynamic memory management\n",
    "\n",
    "* Syntax: [element1, element2, element3,...]"
   ]
  },
  {
   "cell_type": "code",
   "execution_count": 16,
   "id": "5780622f",
   "metadata": {},
   "outputs": [
    {
     "data": {
      "text/plain": [
       "['Hammad', 'Visha', 'Sadia', 'M.A Rasheed']"
      ]
     },
     "execution_count": 16,
     "metadata": {},
     "output_type": "execute_result"
    }
   ],
   "source": [
    "#->            0       1         2            3   ->\n",
    "names = [\"Hammad\", \"Visha\", \"Sadia\", \"M.A Rasheed\"]\n",
    "#<-         -4       -3       -2          -1      <-\n",
    "names\n"
   ]
  },
  {
   "cell_type": "markdown",
   "id": "9a6acb90",
   "metadata": {},
   "source": [
    "# Extract Values from Iterative Data Types with Index Postion\n",
    "\n",
    "* Syntax: list_variable [index]"
   ]
  },
  {
   "cell_type": "code",
   "execution_count": 18,
   "id": "b833b8a2",
   "metadata": {},
   "outputs": [
    {
     "name": "stdout",
     "output_type": "stream",
     "text": [
      "Please insert your name with ',' separated: Juanid, Imran, Iqbal\n",
      "Juanid, Imran, Iqbal\n"
     ]
    },
    {
     "data": {
      "text/plain": [
       "['Juanid', ' Imran', ' Iqbal']"
      ]
     },
     "execution_count": 18,
     "metadata": {},
     "output_type": "execute_result"
    }
   ],
   "source": [
    "names1 = input(\"Please insert your name with ',' separated: \")\n",
    "print(names1)\n",
    "\n",
    "names1.split(\",\")"
   ]
  },
  {
   "cell_type": "code",
   "execution_count": 32,
   "id": "0ebcdb04",
   "metadata": {},
   "outputs": [
    {
     "name": "stdout",
     "output_type": "stream",
     "text": [
      "Please insert your name with ',' separation: Junaid Imran Jahanzeb Shahzeb\n",
      "J\n",
      "u\n",
      "n\n",
      "a\n",
      "i\n",
      "d\n",
      " \n",
      "I\n",
      "m\n",
      "r\n",
      "a\n",
      "n\n",
      " \n",
      "J\n",
      "a\n",
      "h\n",
      "a\n",
      "n\n",
      "z\n",
      "e\n",
      "b\n",
      " \n",
      "S\n",
      "h\n",
      "a\n",
      "h\n",
      "z\n",
      "e\n",
      "b\n"
     ]
    }
   ],
   "source": [
    "names_input = input(\"Please insert your name with ',' separation: \")\n",
    "names_input.split(\",\")\n",
    "\n",
    "for i in names_input:\n",
    "    print(i)\n",
    "   "
   ]
  },
  {
   "cell_type": "code",
   "execution_count": 31,
   "id": "63d3812c",
   "metadata": {},
   "outputs": [
    {
     "name": "stdout",
     "output_type": "stream",
     "text": [
      "Sadia\n",
      "Sadia\n"
     ]
    }
   ],
   "source": [
    "#->            0       1         2            3   ->\n",
    "names = [\"Hammad\", \"Visha\", \"Sadia\", \"M.A Rasheed\"]\n",
    "#<-         -4       -3       -2          -1      <-\n",
    "\n",
    "#list_variable[index_number]\n",
    "\n",
    "print(names[2])\n",
    "print(names[-2])"
   ]
  },
  {
   "cell_type": "markdown",
   "id": "40b7e7ac",
   "metadata": {},
   "source": [
    "# Slicing in list\n",
    "\n",
    "* Syntax: list_variable[start:and:step]\n",
    "* start = this number will be included\n",
    "* and = excluded end -1\n",
    "* step =  sequence/gap"
   ]
  },
  {
   "cell_type": "code",
   "execution_count": null,
   "id": "1b5885af",
   "metadata": {},
   "outputs": [],
   "source": []
  }
 ],
 "metadata": {
  "kernelspec": {
   "display_name": "Python 3 (ipykernel)",
   "language": "python",
   "name": "python3"
  },
  "language_info": {
   "codemirror_mode": {
    "name": "ipython",
    "version": 3
   },
   "file_extension": ".py",
   "mimetype": "text/x-python",
   "name": "python",
   "nbconvert_exporter": "python",
   "pygments_lexer": "ipython3",
   "version": "3.10.9"
  }
 },
 "nbformat": 4,
 "nbformat_minor": 5
}
